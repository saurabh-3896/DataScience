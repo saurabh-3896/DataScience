{
 "cells": [
  {
   "cell_type": "code",
   "execution_count": 1,
   "metadata": {},
   "outputs": [
    {
     "name": "stdout",
     "output_type": "stream",
     "text": [
      "[   6.     148.      72.      35.       0.      33.6      0.627   50.   ] 1.0\n"
     ]
    }
   ],
   "source": [
    "import pandas as pd\n",
    "import numpy as np\n",
    "import matplotlib.pyplot as plt\n",
    "filename = 'pima-indians-diabetes.csv'\n",
    "names=['preg','plas','pres','skin', 'test', 'mass','pedi','age','class']\n",
    "\n",
    "data=pd.read_csv(filename,names=names)\n",
    "array = data.values\n",
    "# print(array[:2])\n",
    "\n",
    "X = array[:,:8]\n",
    "Y = array[:,8]\n",
    "\n",
    "print(X[0],Y[0])"
   ]
  },
  {
   "cell_type": "code",
   "execution_count": 2,
   "metadata": {},
   "outputs": [
    {
     "name": "stderr",
     "output_type": "stream",
     "text": [
      "/home/heimdall/anaconda3/lib/python3.6/site-packages/sklearn/cross_validation.py:41: DeprecationWarning: This module was deprecated in version 0.18 in favor of the model_selection module into which all the refactored classes and functions are moved. Also note that the interface of the new CV iterators are different from that of this module. This module will be removed in 0.20.\n",
      "  \"This module will be removed in 0.20.\", DeprecationWarning)\n"
     ]
    }
   ],
   "source": [
    "from sklearn import cross_validation\n",
    "\n",
    "#dont do this\n",
    "\n",
    "num_folds=12\n",
    "seed = 7\n",
    "\n",
    "X_train,X_test,Y_train,Y_test=cross_validation.train_test_split(X,Y,test_size=0.2,random_state=seed)\n",
    "num_instances= len(X_train)\n",
    "kfold= cross_validation.KFold(n=num_instances,n_folds=num_folds,random_state=seed)"
   ]
  },
  {
   "cell_type": "code",
   "execution_count": 3,
   "metadata": {},
   "outputs": [
    {
     "name": "stdout",
     "output_type": "stream",
     "text": [
      "Accuracy: 76.8853695324 7.05040820733\n"
     ]
    }
   ],
   "source": [
    "from sklearn.linear_model import LogisticRegression\n",
    "model=LogisticRegression()\n",
    "# model.fit(X_train,Y_train)\n",
    "\n",
    "results=cross_validation.cross_val_score(model,X_train,Y_train,cv=kfold)\n",
    "print(\"Accuracy:\", results.mean()*100.0,results.std()*100.0)"
   ]
  },
  {
   "cell_type": "code",
   "execution_count": 4,
   "metadata": {},
   "outputs": [
    {
     "name": "stdout",
     "output_type": "stream",
     "text": [
      "Accuracy: 76.7156862745 6.97004737319\n"
     ]
    }
   ],
   "source": [
    "from sklearn.discriminant_analysis import LinearDiscriminantAnalysis\n",
    "\n",
    "model=LinearDiscriminantAnalysis()\n",
    "# model.fit(X_train,Y_train)\n",
    "\n",
    "results=cross_validation.cross_val_score(model,X_train,Y_train,cv=kfold)\n",
    "print(\"Accuracy:\", results.mean()*100.0,results.std()*100.0)"
   ]
  },
  {
   "cell_type": "code",
   "execution_count": 5,
   "metadata": {},
   "outputs": [
    {
     "name": "stdout",
     "output_type": "stream",
     "text": [
      "Accuracy: 73.7902212167 5.44123130964\n"
     ]
    }
   ],
   "source": [
    "from sklearn.neighbors import KNeighborsClassifier\n",
    "\n",
    "model=KNeighborsClassifier(n_neighbors=9)\n",
    "#model.fit(X_train,Y_train)\n",
    "\n",
    "results=cross_validation.cross_val_score(model,X_train,Y_train,cv=kfold)\n",
    "print(\"Accuracy:\", results.mean()*100.0,results.std()*100.0)"
   ]
  },
  {
   "cell_type": "code",
   "execution_count": 6,
   "metadata": {},
   "outputs": [
    {
     "name": "stdout",
     "output_type": "stream",
     "text": [
      "Accuracy: 75.5813222725 6.42206529062\n"
     ]
    }
   ],
   "source": [
    "from sklearn.naive_bayes import GaussianNB\n",
    "model = GaussianNB()\n",
    "\n",
    "results=cross_validation.cross_val_score(model,X_train,Y_train,cv=kfold)\n",
    "print(\"Accuracy:\", results.mean()*100.0,results.std()*100.0)"
   ]
  },
  {
   "cell_type": "code",
   "execution_count": 7,
   "metadata": {},
   "outputs": [
    {
     "name": "stdout",
     "output_type": "stream",
     "text": [
      "Accuracy: 65.6328557064 7.23098344444\n"
     ]
    }
   ],
   "source": [
    "from sklearn.svm import SVC\n",
    "model = SVC()\n",
    "results=cross_validation.cross_val_score(model,X_train,Y_train,cv=kfold)\n",
    "print(\"Accuracy:\", results.mean()*100.0,results.std()*100.0)"
   ]
  }
 ],
 "metadata": {
  "kernelspec": {
   "display_name": "Python 3",
   "language": "python",
   "name": "python3"
  },
  "language_info": {
   "codemirror_mode": {
    "name": "ipython",
    "version": 3
   },
   "file_extension": ".py",
   "mimetype": "text/x-python",
   "name": "python",
   "nbconvert_exporter": "python",
   "pygments_lexer": "ipython3",
   "version": "3.6.3"
  }
 },
 "nbformat": 4,
 "nbformat_minor": 2
}
